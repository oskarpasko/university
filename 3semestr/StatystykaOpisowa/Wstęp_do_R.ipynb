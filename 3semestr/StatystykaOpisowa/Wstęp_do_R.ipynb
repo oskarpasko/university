{
  "nbformat": 4,
  "nbformat_minor": 0,
  "metadata": {
    "colab": {
      "provenance": [],
      "collapsed_sections": [],
      "authorship_tag": "ABX9TyM9qDouaQspb801DWnzA4wd",
      "include_colab_link": true
    },
    "kernelspec": {
      "name": "python3",
      "display_name": "Python 3"
    },
    "language_info": {
      "name": "python"
    }
  },
  "cells": [
    {
      "cell_type": "markdown",
      "metadata": {
        "id": "view-in-github",
        "colab_type": "text"
      },
      "source": [
        "<a href=\"https://colab.research.google.com/github/oskarpasko/StatystykaOpisowa/blob/main/Wst%C4%99p_do_R.ipynb\" target=\"_parent\"><img src=\"https://colab.research.google.com/assets/colab-badge.svg\" alt=\"Open In Colab\"/></a>"
      ]
    },
    {
      "cell_type": "markdown",
      "source": [
        "# Aktywacja kodu R"
      ],
      "metadata": {
        "id": "eDxETF9n2-Jw"
      }
    },
    {
      "cell_type": "markdown",
      "source": [
        "## Załadowanie R do pythona"
      ],
      "metadata": {
        "id": "P_HtRxx16aQD"
      }
    },
    {
      "cell_type": "code",
      "source": [
        "%load_ext rpy2.ipython"
      ],
      "metadata": {
        "id": "1Y_QgktV3J3t"
      },
      "execution_count": 5,
      "outputs": []
    },
    {
      "cell_type": "markdown",
      "source": [
        "## Sprawdzenie czy obiekt to dataframe"
      ],
      "metadata": {
        "id": "UiweKlBG6ezt"
      }
    },
    {
      "cell_type": "code",
      "source": [
        "%%R\n",
        "dane<-cars\n",
        "\n",
        "is.data.frame(dane)"
      ],
      "metadata": {
        "colab": {
          "base_uri": "https://localhost:8080/"
        },
        "id": "2TXcVA-f4bLz",
        "outputId": "7015baf1-9ee4-4935-b493-4ea308949207"
      },
      "execution_count": 6,
      "outputs": [
        {
          "output_type": "stream",
          "name": "stdout",
          "text": [
            "[1] TRUE\n"
          ]
        }
      ]
    },
    {
      "cell_type": "code",
      "source": [
        "%%R\n",
        "names(dane)"
      ],
      "metadata": {
        "colab": {
          "base_uri": "https://localhost:8080/"
        },
        "id": "H5HM32PU5_3S",
        "outputId": "5bedd66e-9ffa-4afa-ca31-c89f8bb270ec"
      },
      "execution_count": 7,
      "outputs": [
        {
          "output_type": "stream",
          "name": "stdout",
          "text": [
            "[1] \"speed\" \"dist\" \n"
          ]
        }
      ]
    },
    {
      "cell_type": "markdown",
      "source": [
        "## Prezentacja danych\n",
        "\n",
        "Dane możemy przedstawiać na kilka sposobów:\n",
        "- tabela danych surowych"
      ],
      "metadata": {
        "id": "ElX66XO26szy"
      }
    },
    {
      "cell_type": "code",
      "source": [
        "%%R\n",
        "print(dane)"
      ],
      "metadata": {
        "id": "_gKTFZ2G6usm"
      },
      "execution_count": null,
      "outputs": []
    },
    {
      "cell_type": "code",
      "source": [
        "%%R\n",
        "dane"
      ],
      "metadata": {
        "id": "qyUiNVC77Cds"
      },
      "execution_count": null,
      "outputs": []
    },
    {
      "cell_type": "markdown",
      "source": [
        "- szereg statystyczny czyli zbiór wyników obserwacji jednej cechy jednostek informacji"
      ],
      "metadata": {
        "id": "0MAlK3DO7TAz"
      }
    },
    {
      "cell_type": "code",
      "source": [
        "%%R\n",
        "dane$speed"
      ],
      "metadata": {
        "id": "jbhxI9yC7H_H"
      },
      "execution_count": null,
      "outputs": []
    },
    {
      "cell_type": "markdown",
      "source": [
        "- szereg rozdzielczy (posortowane dane)"
      ],
      "metadata": {
        "id": "NYhGxGj07xAE"
      }
    },
    {
      "cell_type": "code",
      "source": [
        "%%R\n",
        "sort(dane$speed)"
      ],
      "metadata": {
        "id": "FWjZ3Dli7h6H"
      },
      "execution_count": null,
      "outputs": []
    },
    {
      "cell_type": "code",
      "source": [
        "%%R\n",
        "szer_skuml<-table(dane$speed)\n",
        "szer_skuml"
      ],
      "metadata": {
        "id": "IHAMD_o_8axO"
      },
      "execution_count": null,
      "outputs": []
    },
    {
      "cell_type": "code",
      "source": [
        "%%R\n",
        "table(iris$Species)"
      ],
      "metadata": {
        "id": "iuiRZf3m8wKN"
      },
      "execution_count": null,
      "outputs": []
    },
    {
      "cell_type": "markdown",
      "source": [
        "analogiczne działanie ma funkcja xtabs, którą wywułujemy następująco: \n",
        "\n",
        "xtabs(~zmienna, data = zbiórdanych"
      ],
      "metadata": {
        "id": "YACS8bhW9YOQ"
      }
    },
    {
      "cell_type": "code",
      "source": [
        "%%R\n",
        "xtabs(~Species, data=iris)"
      ],
      "metadata": {
        "colab": {
          "base_uri": "https://localhost:8080/"
        },
        "id": "8xZkxoAk80ra",
        "outputId": "039beae4-e2f0-4a05-f8b2-3b4bf5fcd377"
      },
      "execution_count": 16,
      "outputs": [
        {
          "output_type": "stream",
          "name": "stdout",
          "text": [
            "Species\n",
            "    setosa versicolor  virginica \n",
            "        50         50         50 \n"
          ]
        }
      ]
    },
    {
      "cell_type": "markdown",
      "source": [
        "## Tabele dla dwóch zmiennych\n",
        "w celu zbadania zależności pomiędzy dwiema zmiennymi"
      ],
      "metadata": {
        "id": "LAzEM4Y29xZ8"
      }
    },
    {
      "cell_type": "code",
      "source": [
        "%%R\n",
        "xtabs(~iris$Sepal.Length + iris$Species)"
      ],
      "metadata": {
        "id": "s3j7HyK39jLV"
      },
      "execution_count": null,
      "outputs": []
    },
    {
      "cell_type": "markdown",
      "source": [
        "## Wykresy"
      ],
      "metadata": {
        "id": "3qN_R9g0_IGU"
      }
    },
    {
      "cell_type": "code",
      "source": [
        "%%R\n",
        "siec.wodociagowa<-data.frame(\n",
        "    Rok=c(1990, 1994),\n",
        "    Siec_w_km=c(93187, 142179)\n",
        ")\n",
        "siec.wodociagowa"
      ],
      "metadata": {
        "colab": {
          "base_uri": "https://localhost:8080/"
        },
        "id": "Oj5NJCdU-YEa",
        "outputId": "2288e0bf-465c-4bc8-eb34-a81b9b3b5b83"
      },
      "execution_count": 21,
      "outputs": [
        {
          "output_type": "stream",
          "name": "stdout",
          "text": [
            "   Rok Siec_w_km\n",
            "1 1990     93187\n",
            "2 1994    142179\n"
          ]
        }
      ]
    },
    {
      "cell_type": "markdown",
      "source": [
        "### Wykres słupkowy"
      ],
      "metadata": {
        "id": "8XvyIBuEAA4b"
      }
    },
    {
      "cell_type": "code",
      "source": [
        "%%R\n",
        "barplot(siec.wodociagowa$Siec_w_km, main=\"Sieć wodociągowa\", xlab=\"Rok\", ylab=\"km\", axes=TRUE,\n",
        "        border=\"red\", density=c(10,15))"
      ],
      "metadata": {
        "colab": {
          "base_uri": "https://localhost:8080/",
          "height": 497
        },
        "id": "lV9GwdWj_3xm",
        "outputId": "51e477b1-b3a2-4d77-b551-377558836704"
      },
      "execution_count": 34,
      "outputs": [
        {
          "output_type": "display_data",
          "data": {
            "image/png": "[encoded data removed]"
          },
          "metadata": {}
        }
      ]
    },
    {
      "cell_type": "code",
      "source": [],
      "metadata": {
        "id": "lqO5EmBY_-wD"
      },
      "execution_count": null,
      "outputs": []
    }
  ]
}